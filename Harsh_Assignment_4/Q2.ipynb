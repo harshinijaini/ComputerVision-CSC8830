{
 "cells": [
  {
   "cell_type": "code",
   "execution_count": 2,
   "id": "7cbbc01d-6fa9-4a56-91ac-068695d9b851",
   "metadata": {},
   "outputs": [
    {
     "name": "stdout",
     "output_type": "stream",
     "text": [
      "Requirement already satisfied: depthai in /opt/homebrew/lib/python3.11/site-packages (2.25.0.0)\n",
      "\n",
      "\u001b[1m[\u001b[0m\u001b[34;49mnotice\u001b[0m\u001b[1;39;49m]\u001b[0m\u001b[39;49m A new release of pip is available: \u001b[0m\u001b[31;49m23.3.1\u001b[0m\u001b[39;49m -> \u001b[0m\u001b[32;49m24.0\u001b[0m\n",
      "\u001b[1m[\u001b[0m\u001b[34;49mnotice\u001b[0m\u001b[1;39;49m]\u001b[0m\u001b[39;49m To update, run: \u001b[0m\u001b[32;49mpython3.11 -m pip install --upgrade pip\u001b[0m\n",
      "Note: you may need to restart the kernel to use updated packages.\n"
     ]
    }
   ],
   "source": [
    "pip install depthai"
   ]
  },
  {
   "cell_type": "code",
   "execution_count": null,
   "id": "eeaaed82-1dba-43d9-becc-745f0bee3599",
   "metadata": {},
   "outputs": [],
   "source": [
    "import depthai as dai\n",
    "import cv2\n",
    "import numpy as np\n",
    "\n",
    "def create_pipeline():\n",
    "    # Create a pipeline\n",
    "    pipeline = dai.Pipeline()\n",
    "\n",
    "    # Define sources and outputs\n",
    "    cam_left = pipeline.create(dai.node.MonoCamera)\n",
    "    cam_right = pipeline.create(dai.node.MonoCamera)\n",
    "    depth = pipeline.create(dai.node.StereoDepth)\n",
    "\n",
    "    cam_left.setBoardSocket(dai.CameraBoardSocket.LEFT)\n",
    "    cam_right.setBoardSocket(dai.CameraBoardSocket.RIGHT)\n",
    "    cam_left.setResolution(dai.MonoCameraProperties.SensorResolution.THE_720_P)\n",
    "    cam_right.setResolution(dai.MonoCameraProperties.SensorResolution.THE_720_P)\n",
    "\n",
    "    # Properties\n",
    "    depth.setConfidenceThreshold(255)\n",
    "    depth.setSubpixel(False)\n",
    "\n",
    "    # Linking\n",
    "    cam_left.out.link(depth.left)\n",
    "    cam_right.out.link(depth.right)\n",
    "    xout_depth = pipeline.create(dai.node.XLinkOut)\n",
    "    xout_depth.setStreamName('depth')\n",
    "    depth.disparity.link(xout_depth.input)\n",
    "\n",
    "    return pipeline\n",
    "\n",
    "# Connect to device and start pipeline\n",
    "with dai.Device(create_pipeline()) as device:\n",
    "    # Output queue will be used to get the disparity frames from the outputs defined above\n",
    "    q_depth = device.getOutputQueue(name=\"depth\", maxSize=4, blocking=False)\n",
    "\n",
    "    while True:\n",
    "        in_depth = q_depth.get()  # Blocking call, will wait until a new data has arrived\n",
    "        frame = in_depth.getFrame()  # Get frame from the output queue\n",
    "        \n",
    "        # Normalize the depth map to be in the range of 0-255 for displaying\n",
    "        frame = (frame * (255 / frame.max())).astype(np.uint8)\n",
    "        \n",
    "        cv2.imshow(\"Depth\", frame)\n",
    "\n",
    "        if cv2.waitKey(1) == ord('q'):\n",
    "            break\n",
    "\n",
    "cv2.destroyAllWindows()\n"
   ]
  }
 ],
 "metadata": {
  "kernelspec": {
   "display_name": "Python 3 (ipykernel)",
   "language": "python",
   "name": "python3"
  },
  "language_info": {
   "codemirror_mode": {
    "name": "ipython",
    "version": 3
   },
   "file_extension": ".py",
   "mimetype": "text/x-python",
   "name": "python",
   "nbconvert_exporter": "python",
   "pygments_lexer": "ipython3",
   "version": "3.11.6"
  }
 },
 "nbformat": 4,
 "nbformat_minor": 5
}
