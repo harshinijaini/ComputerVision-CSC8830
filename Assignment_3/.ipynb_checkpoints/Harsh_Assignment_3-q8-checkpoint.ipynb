{
 "cells": [
  {
   "cell_type": "markdown",
   "id": "4ed21c53-d332-4ca7-9a7b-91881ab94f87",
   "metadata": {},
   "source": [
    "# 1) QR Code detector"
   ]
  },
  {
   "cell_type": "code",
   "execution_count": 2,
   "id": "f4cbe19a-b20d-4ef2-afc9-ee9d6b9f7077",
   "metadata": {},
   "outputs": [],
   "source": [
    "import cv2\n",
    "\n",
    "# Initialize video capture\n",
    "cam = cv2.VideoCapture(0)\n",
    "\n",
    "# QR code detection setup\n",
    "qr_detector = cv2.QRCodeDetector()\n",
    "\n",
    "while True:\n",
    "    # Capture frame\n",
    "    success, image = cam.read()\n",
    "    \n",
    "    # Detect QR Code in the current frame\n",
    "    qr_data, qr_corners, _ = qr_detector.detectAndDecode(image)\n",
    "    \n",
    "    # Checking if QR corners were found\n",
    "    if qr_corners is not None:\n",
    "        qr_corners = qr_corners[0]\n",
    "        for idx in range(4):\n",
    "            start_point = tuple(qr_corners[idx].astype(int))\n",
    "            end_point = tuple(qr_corners[(idx+1) % 4].astype(int))\n",
    "            cv2.line(image, start_point, end_point, color=(0, 255, 0), thickness=5)\n",
    "        \n",
    "        # Show the decoded QR data near the first corner\n",
    "        cv2.putText(image, qr_data, tuple(qr_corners[0].astype(int)), cv2.FONT_HERSHEY_SIMPLEX, 0.7, (0, 255, 0), 2)\n",
    "    \n",
    "    # Display the result in a window\n",
    "    cv2.imshow(\"QR Code Tracking - Press Q to Exit\", image)\n",
    "    if cv2.waitKey(1) & 0xFF == ord('q'):\n",
    "        break\n",
    "\n",
    "cam.release()\n",
    "cv2.destroyAllWindows()\n"
   ]
  },
  {
   "cell_type": "markdown",
   "id": "6cd19d16-0c9d-4372-a98d-ab1b0b22895f",
   "metadata": {},
   "source": [
    "# 2) Object Detector"
   ]
  },
  {
   "cell_type": "code",
   "execution_count": null,
   "id": "7cb752bf-febc-48c6-b370-e2a77ffa1ea9",
   "metadata": {},
   "outputs": [],
   "source": [
    "pip install opencv-python opencv-python-headless"
   ]
  },
  {
   "cell_type": "code",
   "execution_count": null,
   "id": "b6393015-581e-4a32-ad45-f99fbd0faa3a",
   "metadata": {},
   "outputs": [
    {
     "name": "stderr",
     "output_type": "stream",
     "text": [
      "2024-04-22 22:58:05.859 Python[16070:52842628] WARNING: Secure coding is not enabled for restorable state! Enable secure coding by implementing NSApplicationDelegate.applicationSupportsSecureRestorableState: and returning YES.\n"
     ]
    }
   ],
   "source": [
    "import cv2\n",
    "import numpy as np\n",
    "import matplotlib.pyplot as plt\n",
    "\n",
    "template_image_path = 'roi.png'\n",
    "template_image = plt.imread(template_image_path)\n",
    "template_image = cv2.cvtColor(template_image, cv2.COLOR_RGB2BGR\n",
    "\n",
    "# Initialize webcam capture\n",
    "cap = cv2.VideoCapture(0)\n",
    "\n",
    "def compute_ssd(image, template):\n",
    "    h, w = template.shape[:2]\n",
    "    ssd_map = np.full((image.shape[0] - h, image.shape[1] - w), np.inf)\n",
    "    \n",
    "    for i in range(image.shape[0] - h):\n",
    "        for j in range(image.shape[1] - w):\n",
    "            window = image[i:i+h, j:j+w]\n",
    "            if window.shape[:2] == (h, w):\n",
    "                ssd = np.sum((window.astype(\"float32\") - template.astype(\"float32\")) ** 2)\n",
    "                ssd_map[i, j] = ssd\n",
    "\n",
    "    return ssd_map\n",
    "\n",
    "while True:\n",
    "    ret, frame = cap.read()\n",
    "\n",
    "    # Computing SSD between the frame and the template\n",
    "    ssd_map = compute_ssd(frame, template_image)\n",
    "    y, x = np.unravel_index(np.argmin(ssd_map), ssd_map.shape)\n",
    "\n",
    "    # Define the bounding box based on SSD\n",
    "    top_left = (x, y)\n",
    "    bottom_right = (x + template_image.shape[1], y + template_image.shape[0])\n",
    "\n",
    "    # Draw the bounding box on the frame\n",
    "    cv2.rectangle(frame, top_left, bottom_right, (0, 255, 255), 5)\n",
    "\n",
    "    # Show the frame\n",
    "    cv2.imshow(window_name, frame)\n",
    "    if cv2.waitKey(1) & 0xFF == ord('q'):\n",
    "        break\n",
    "\n",
    "# Release the webcam and close the window\n",
    "cap.release()\n",
    "cv2.destroyAllWindows()\n"
   ]
  },
  {
   "cell_type": "code",
   "execution_count": null,
   "id": "36edb5f1-fca9-4e9b-908b-69778bb05009",
   "metadata": {},
   "outputs": [],
   "source": []
  }
 ],
 "metadata": {
  "kernelspec": {
   "display_name": "Python 3 (ipykernel)",
   "language": "python",
   "name": "python3"
  },
  "language_info": {
   "codemirror_mode": {
    "name": "ipython",
    "version": 3
   },
   "file_extension": ".py",
   "mimetype": "text/x-python",
   "name": "python",
   "nbconvert_exporter": "python",
   "pygments_lexer": "ipython3",
   "version": "3.11.6"
  }
 },
 "nbformat": 4,
 "nbformat_minor": 5
}
