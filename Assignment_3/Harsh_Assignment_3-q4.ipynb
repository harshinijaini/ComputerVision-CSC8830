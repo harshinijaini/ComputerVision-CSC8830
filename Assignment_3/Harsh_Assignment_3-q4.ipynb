{
 "cells": [
  {
   "cell_type": "code",
   "execution_count": 1,
   "id": "395b6c4b-5407-4920-90a0-09c1bf37b226",
   "metadata": {},
   "outputs": [],
   "source": [
    "import cv2\n",
    "import numpy as np\n",
    "import matplotlib.pyplot as plt\n",
    "import os\n",
    "import glob,re\n",
    "\n",
    "VIDEO_FRAMES_FOLDER = 'video_frames'\n"
   ]
  },
  {
   "cell_type": "code",
   "execution_count": 2,
   "id": "c1cb09d4-fad9-4aa1-a33e-fb3b23831e99",
   "metadata": {},
   "outputs": [],
   "source": [
    "def extract_number(filename):\n",
    "    match = re.search(r'\\d+', filename)\n",
    "    if match:\n",
    "        return int(match.group())\n",
    "    return 0\n",
    "# numbers = re.compile(r'(\\d+)')\n",
    "# def numericalSort(value):\n",
    "#     parts = numbers.split(value)\n",
    "#     parts[1::2] = map(int, parts[1::2])\n",
    "#     return parts\n",
    "\n",
    "frames_dir = os.path.join(VIDEO_FRAMES_FOLDER, 'new_frames')\n",
    "frames_array = glob.glob(frames_dir+'/*.png')\n",
    "sorted_frames_array = sorted(frames_array, key=extract_number)\n",
    "# print(sorted_frames_array)\n",
    "frames_array = [cv2.imread(filename) for filename in sorted_frames_array]"
   ]
  },
  {
   "cell_type": "code",
   "execution_count": 3,
   "id": "df0bb5c7-df9f-4ffa-a785-19730b5b458e",
   "metadata": {},
   "outputs": [],
   "source": [
    "def create_video_frames_folder(sub_folder_name):\n",
    "    current_directory = os.getcwd()\n",
    "    video_frames_directory = os.path.join(current_directory, VIDEO_FRAMES_FOLDER+'/'+sub_folder_name)\n",
    "    if not os.path.exists(video_frames_directory):\n",
    "        os.makedirs(video_frames_directory)\n",
    "\n",
    "create_video_frames_folder('optical_flow')"
   ]
  },
  {
   "cell_type": "code",
   "execution_count": 4,
   "id": "1cb99b72-1490-4280-a968-eacc534597a2",
   "metadata": {},
   "outputs": [],
   "source": [
    "def plot_optical_flow(frames, reference_frame_interval):\n",
    "    st_params = dict( maxCorners = 100,\n",
    "                       qualityLevel = 0.3,\n",
    "                       minDistance = 7,\n",
    "                       blockSize = 7 )\n",
    "\n",
    "    # lucas kanade optical flow params\n",
    "    lk_params = dict( winSize  = (15,15),\n",
    "                      maxLevel = 2,\n",
    "                      criteria = (cv2.TERM_CRITERIA_EPS | cv2.TERM_CRITERIA_COUNT, 10, 0.03))\n",
    "\n",
    "    # Initialize variables\n",
    "    old_frame = frames[0]\n",
    "    old_gray = cv2.cvtColor(old_frame, cv2.COLOR_BGR2GRAY)\n",
    "    p0 = cv2.goodFeaturesToTrack(old_gray, **st_params)\n",
    "    mask = np.zeros_like(old_frame)  # For drawing purposes\n",
    "\n",
    "    reference_gray = old_gray\n",
    "    p_reference = p0\n",
    "    frame_index = 0\n",
    "    color = np.random.randint(0, 255, (100, 3))\n",
    "    # Loop over the frames\n",
    "    for frame in frames[1:]:  # Start from the second frame\n",
    "        if frame_index % reference_frame_interval == 0:\n",
    "            frame_gray = cv2.cvtColor(frame, cv2.COLOR_BGR2GRAY)\n",
    "            # Calculate Optical Flow\n",
    "            p1, st, err = cv2.calcOpticalFlowPyrLK(reference_gray, frame_gray, p_reference, None, **lk_params)\n",
    "            if p1 is not None:\n",
    "                # Select good points\n",
    "                good_new = p1[st == 1]\n",
    "                good_old = p_reference[st == 1]\n",
    "        \n",
    "                # Draw the tracks\n",
    "                for i, (new, old) in enumerate(zip(good_new, good_old)):\n",
    "                    a, b = new.ravel()\n",
    "                    c, d = old.ravel()\n",
    "                    mask = cv2.line(mask, (int(a),int(b)),(int(c),int(d)), color[i].tolist(), 2)\n",
    "                    frame = cv2.circle(frame,(int(a),int(b)),5,color[i].tolist(),-1)\n",
    "        \n",
    "                img = cv2.add(frame, mask)\n",
    "                cv2.imshow('Frame', img)\n",
    "                if cv2.waitKey(30) & 0xFF == ord('q'):\n",
    "                    break\n",
    "                \n",
    "            # Updating previous frame and previous points\n",
    "            reference_gray = frame_gray.copy()\n",
    "            p_reference = good_new.reshape(-1,1,2)\n",
    "        frame_index += 1\n",
    "    \n",
    "    optical_results_dir = os.path.join(VIDEO_FRAMES_FOLDER, 'optical_flow')\n",
    "    cv2.imwrite(optical_results_dir+\"/\"+str(reference_frame_interval)+\"_n.png\", img)  \n",
    "    cv2.imwrite(optical_results_dir+\"/\"+str(reference_frame_interval)+\"_mask_n.png\", mask)\n",
    "    cv2.destroyAllWindows()"
   ]
  },
  {
   "cell_type": "code",
   "execution_count": 5,
   "id": "cb3bd81f-2f5e-4365-92bf-aa2d93738530",
   "metadata": {},
   "outputs": [],
   "source": [
    "plot_optical_flow(frames_array, 1)"
   ]
  },
  {
   "cell_type": "code",
   "execution_count": 6,
   "id": "51fe5cf2-78d0-495d-9d8a-db7094e36b54",
   "metadata": {},
   "outputs": [],
   "source": [
    "plot_optical_flow(frames_array, 11)"
   ]
  },
  {
   "cell_type": "code",
   "execution_count": 7,
   "id": "3edf7e92-cc7a-4b7c-be67-0deb40948705",
   "metadata": {},
   "outputs": [],
   "source": [
    "plot_optical_flow(frames_array, 31)"
   ]
  },
  {
   "cell_type": "code",
   "execution_count": null,
   "id": "552f2953-835d-43b2-8b37-43be59e74817",
   "metadata": {},
   "outputs": [],
   "source": []
  }
 ],
 "metadata": {
  "kernelspec": {
   "display_name": "Python 3 (ipykernel)",
   "language": "python",
   "name": "python3"
  },
  "language_info": {
   "codemirror_mode": {
    "name": "ipython",
    "version": 3
   },
   "file_extension": ".py",
   "mimetype": "text/x-python",
   "name": "python",
   "nbconvert_exporter": "python",
   "pygments_lexer": "ipython3",
   "version": "3.11.7"
  }
 },
 "nbformat": 4,
 "nbformat_minor": 5
}
